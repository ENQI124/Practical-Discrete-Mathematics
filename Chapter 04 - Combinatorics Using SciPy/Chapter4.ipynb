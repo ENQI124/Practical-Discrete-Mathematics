{
  "cells": [
    {
      "cell_type": "markdown",
      "metadata": {
        "id": "BSEYJ_ta2I-6"
      },
      "source": [
        "# Chapter 4 - Combinatorics Using SciPy\n",
        "\n",
        "This notebook contains code accompanying Chapter 4 Combinatorics Using SciPy in *Practical Discrete Mathematics* by Ryan T. White and Archana Tikayat Ray.\n",
        "\n",
        "## Counting Permutations and Combinations of Objects\n",
        "\n",
        "### Growth of Factorials\n",
        "\n",
        "Below, we compute some factorials, which count permutations."
      ]
    },
    {
      "cell_type": "code",
      "execution_count": 3,
      "metadata": {
        "id": "vDaNQTu-2I-9",
        "outputId": "510efb39-3cc3-4497-a7a9-940018791e95",
        "colab": {
          "base_uri": "https://localhost:8080/"
        }
      },
      "outputs": [
        {
          "output_type": "stream",
          "name": "stdout",
          "text": [
            "2432902008176640000\n",
            "93326215443944152681699238856266700490715968264381621468592963895217599993229915608941463976156518286253697920827223758251185210916864000000000000000000000000\n"
          ]
        }
      ],
      "source": [
        "import math\n",
        "print(math.factorial(20))\n",
        "print(math.factorial(100))"
      ]
    },
    {
      "cell_type": "markdown",
      "metadata": {
        "id": "BUKM23V82I_A"
      },
      "source": [
        "### Example: Counting playlists\n",
        "\n",
        "The number of 10-permutations of the 20-song list can be computed with Python as follows."
      ]
    },
    {
      "cell_type": "code",
      "execution_count": null,
      "metadata": {
        "id": "WbyG7SrK2I_B",
        "outputId": "bb7746ab-4926-4dfa-f42d-678a29d57283"
      },
      "outputs": [
        {
          "name": "stdout",
          "output_type": "stream",
          "text": [
            "670442572800.0\n"
          ]
        }
      ],
      "source": [
        "import math\n",
        "print(math.factorial(20)/math.factorial(20-10))"
      ]
    },
    {
      "cell_type": "markdown",
      "metadata": {
        "id": "yeatfJo_2I_B"
      },
      "source": [
        "### Example: Teambuilding\n",
        "\n",
        "The code below finds the number of possible 4-person teams we could build from four of twenty people."
      ]
    },
    {
      "cell_type": "code",
      "execution_count": null,
      "metadata": {
        "id": "eSMQsBea2I_C",
        "outputId": "6da816b7-85ff-411f-b07c-876bb1eb72cc"
      },
      "outputs": [
        {
          "name": "stdout",
          "output_type": "stream",
          "text": [
            "4845.0\n",
            "4845.0\n"
          ]
        }
      ],
      "source": [
        "# using the factorial function\n",
        "import math\n",
        "print(math.factorial(20) / math.factorial(4) / math.factorial(20-4))\n",
        "\n",
        "# import the special functions from sciPy\n",
        "import scipy.special\n",
        "print(scipy.special.binom(20,4))"
      ]
    },
    {
      "cell_type": "markdown",
      "metadata": {
        "id": "F2zj2SaK2I_C"
      },
      "source": [
        "## Applications to Memory Allocation\n",
        "\n",
        "### Example: Pre-allocating Memory\n",
        "\n",
        "Suppose we wish to create a large list of 1,000,000 numbers. The simplest way is to just run a loop, adding one element at a time to the vector. (Note that the runtime will vary depending on the hardware where you run the code.)"
      ]
    },
    {
      "cell_type": "code",
      "execution_count": null,
      "metadata": {
        "id": "wXMVPPlJ2I_D",
        "outputId": "20746da0-00fb-4950-9dcd-2e5f9bbd41de"
      },
      "outputs": [
        {
          "name": "stdout",
          "output_type": "stream",
          "text": [
            "0.13155269622802734\n"
          ]
        }
      ],
      "source": [
        "import time\n",
        "\n",
        "number = 1000000\n",
        "\n",
        "# Check the current time\n",
        "startTime = time.time()\n",
        "\n",
        "# Create an empty list\n",
        "list = []\n",
        "\n",
        "# Add items to the list one by one\n",
        "for counter in range(number):\n",
        "    list.append(counter)\n",
        "\n",
        "# Display the run time\n",
        "print(time.time() - startTime)"
      ]
    },
    {
      "cell_type": "markdown",
      "metadata": {
        "id": "yRwDH5Xs2I_D"
      },
      "source": [
        "The code below can pre-allocate an array with 1,000,000 and fill it in with 1, 2, ..., 1,000,000. (Note that the runtime will vary depending on the hardware where you run the code.)"
      ]
    },
    {
      "cell_type": "code",
      "execution_count": null,
      "metadata": {
        "id": "5Upn_RM52I_E",
        "outputId": "2c6fc440-5587-41d8-e470-80ab7fbc59d7"
      },
      "outputs": [
        {
          "name": "stdout",
          "output_type": "stream",
          "text": [
            "0.10027527809143066\n"
          ]
        }
      ],
      "source": [
        "import time\n",
        "number = 1000000\n",
        "\n",
        "# Check the current time\n",
        "startTime = time.time()\n",
        "\n",
        "# Create a list of 1000000 zeros\n",
        "list = [None]*number\n",
        "\n",
        "# Add items to the list one by one\n",
        "for counter in range(number):\n",
        "    list[counter] = counter\n",
        "\n",
        "# Display the run time\n",
        "print(time.time() - startTime)"
      ]
    },
    {
      "cell_type": "markdown",
      "metadata": {
        "id": "ve3oxMZ_2I_E"
      },
      "source": [
        "## Efficacy of Brute Force Algorithms\n",
        "\n",
        "### Example: Caesar Cipher\n",
        "\n",
        "A brute force check of how the text would be decoded for each possible Caesar cipher."
      ]
    },
    {
      "cell_type": "code",
      "execution_count": null,
      "metadata": {
        "id": "mbC2eUw22I_F",
        "outputId": "61d334b4-ed77-4598-96a1-c42b5dfba3ea"
      },
      "outputs": [
        {
          "name": "stdout",
          "output_type": "stream",
          "text": [
            "0 nzohfu gur rarzl ng avtug\n",
            "1 oapigv hvs sbsam oh bwuvh\n",
            "2 pbqjhw iwt tctbn pi cxvwi\n",
            "3 qcrkix jxu uduco qj dywxj\n",
            "4 rdsljy kyv vevdp rk ezxyk\n",
            "5 setmkz lzw wfweq sl fayzl\n",
            "6 tfunla max xgxfr tm gbzam\n",
            "7 ugvomb nby yhygs un hcabn\n",
            "8 vhwpnc ocz zizht vo idbco\n",
            "9 wixqod pda ajaiu wp jecdp\n",
            "10 xjyrpe qeb bkbjv xq kfdeq\n",
            "11 ykzsqf rfc clckw yr lgefr\n",
            "12 zlatrg sgd dmdlx zs mhfgs\n",
            "13 ambush the enemy at night\n",
            "14 bncvti uif fofnz bu ojhiu\n",
            "15 codwuj vjg gpgoa cv pkijv\n",
            "16 dpexvk wkh hqhpb dw qljkw\n",
            "17 eqfywl xli iriqc ex rmklx\n",
            "18 frgzxm ymj jsjrd fy snlmy\n",
            "19 gshayn znk ktkse gz tomnz\n",
            "20 htibzo aol lultf ha upnoa\n",
            "21 iujcap bpm mvmug ib vqopb\n",
            "22 jvkdbq cqn nwnvh jc wrpqc\n",
            "23 kwlecr dro oxowi kd xsqrd\n",
            "24 lxmfds esp pypxj le ytrse\n",
            "25 mynget ftq qzqyk mf zustf\n"
          ]
        }
      ],
      "source": [
        "# Intercepted message\n",
        "codedMessage = 'nzohfu gur rarzl ng avtug'\n",
        "\n",
        "# We will shift by 0, shift by 1, shift by 2, ... and print the results\n",
        "for counter in range(26):\n",
        "    # Start with no guess\n",
        "    guessedMessage = ''\n",
        "\n",
        "    # Loop through each letter in the coded message\n",
        "    for x in codedMessage:\n",
        "\n",
        "        # If x is not a space\n",
        "        if x != ' ':\n",
        "\n",
        "            # Shift the letter forward by counter\n",
        "            if ord(x)+counter <= 122:\n",
        "                x = chr(ord(x)+counter)\n",
        "\n",
        "            # Subtract 26 if we go beyond z\n",
        "            else:\n",
        "                x = chr(ord(x)+counter-26)\n",
        "\n",
        "        # Build a guess for the message one letter at a time\n",
        "        guessedMessage = guessedMessage + x\n",
        "\n",
        "    # Print the counter (the shift) and the message\n",
        "    print(counter, guessedMessage)\n"
      ]
    },
    {
      "cell_type": "markdown",
      "metadata": {
        "id": "7F6KO8On2I_F"
      },
      "source": [
        "Clearly, the length of the shift is 13 letters as only this one produces an intelligible message."
      ]
    },
    {
      "cell_type": "markdown",
      "source": [
        "Given the followiong original and decrypted words,write a python funtion to determine the possible cipher key used in a Caesar cipher.The function should ignore any non-alphabetic charaters in the words.\n",
        "Original word:\"S3CURE!\"\n",
        "Decryted Word:\"V3FZWH!\"\n",
        "What are the possible keys,and how would you implement this in Python?"
      ],
      "metadata": {
        "id": "iz6tHX436Q8U"
      }
    },
    {
      "cell_type": "code",
      "source": [
        "def caesar_cipher_basic(word,shift):\n",
        "  result = \"\"\n",
        "  for char in word:\n",
        "    if 'A'<= char <= 'Z':\n",
        "      new_char = chr((ord(char)- ord ('A')+ shift) % 26 + ord ('A'))\n",
        "      result += new_char\n",
        "    else:\n",
        "      result +=char\n",
        "  return result\n",
        "\n",
        "def find_all_possible_shifts_basic(orginal,decrypted):\n",
        "  possible_keys =[]\n",
        "  for key in range(26):\n",
        "    print(\"key\",key,\":\",shifted_word)\n",
        "    if shifted_word == decrypted:\n",
        "      possible_keys.append(key)\n",
        ""
      ],
      "metadata": {
        "id": "MDYHaLi98IrR"
      },
      "execution_count": 7,
      "outputs": []
    }
  ],
  "metadata": {
    "kernelspec": {
      "display_name": "Python 3.7 (DL)",
      "language": "python",
      "name": "dl"
    },
    "language_info": {
      "codemirror_mode": {
        "name": "ipython",
        "version": 3
      },
      "file_extension": ".py",
      "mimetype": "text/x-python",
      "name": "python",
      "nbconvert_exporter": "python",
      "pygments_lexer": "ipython3",
      "version": "3.7.7"
    },
    "colab": {
      "provenance": []
    }
  },
  "nbformat": 4,
  "nbformat_minor": 0
}